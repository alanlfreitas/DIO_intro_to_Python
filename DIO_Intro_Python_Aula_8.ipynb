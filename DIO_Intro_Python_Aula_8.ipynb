{
  "nbformat": 4,
  "nbformat_minor": 0,
  "metadata": {
    "colab": {
      "provenance": [],
      "authorship_tag": "ABX9TyPfwZPkdDzciHJIOaetPwAG",
      "include_colab_link": true
    },
    "kernelspec": {
      "name": "python3",
      "display_name": "Python 3"
    },
    "language_info": {
      "name": "python"
    }
  },
  "cells": [
    {
      "cell_type": "markdown",
      "metadata": {
        "id": "view-in-github",
        "colab_type": "text"
      },
      "source": [
        "<a href=\"https://colab.research.google.com/github/alanlfreitas/Python/blob/Aula_8/DIO_Intro_Python_Aula_8.ipynb\" target=\"_parent\"><img src=\"https://colab.research.google.com/assets/colab-badge.svg\" alt=\"Open In Colab\"/></a>"
      ]
    },
    {
      "cell_type": "markdown",
      "source": [
        "**Lidando com módulos, importação de classes, método e construção de funções anônimas(lambda)**"
      ],
      "metadata": {
        "id": "P4xfMo4l2pYm"
      }
    },
    {
      "cell_type": "markdown",
      "source": [
        "No terminal"
      ],
      "metadata": {
        "id": "qnUPU-kc3vS-"
      }
    },
    {
      "cell_type": "code",
      "execution_count": null,
      "metadata": {
        "id": "-oVjru8W2o0N"
      },
      "outputs": [],
      "source": [
        "import DIO Intro Python - Aula 7_televisao #executa de outro módulo.\n",
        "\n",
        "televisao = DIO Intro Python - Aula 7_televisao.Televisao()\n",
        "televisao.ligada #irá retornar False, inicando que a tv está desligada.\n",
        "\n",
        "televisao.power()\n",
        "televisao.ligada #irá retornar True, indicando que a tv está ligada."
      ]
    },
    {
      "cell_type": "markdown",
      "source": [
        "Fora do terminal"
      ],
      "metadata": {
        "id": "kIae4V7g6bVf"
      }
    },
    {
      "cell_type": "code",
      "source": [
        "from DIO Intro Python - Aula 7 import Televisao\n",
        "from DIO Intro Python - Aula 7 import Calculadora\n",
        "from DIO Intro Python - Aula 8 import contador_letras\n",
        "\n",
        "if __name__ == '__main__'\n",
        "  televisao = Televisao()\n",
        "  print(televisao.ligada)\n",
        "  televisao.power()\n",
        "  print(televisao.ligada)\n",
        "  calculadora = Calculadora(5, 10)\n",
        "  print(calculadora.soma())\n",
        "  lista = ['cachorro', 'gato', 'elefante']\n",
        "  total_letras = contador_letras(lista)\n",
        "  print('Total de letras por palavra da lista: {}'.format(total_letras))"
      ],
      "metadata": {
        "id": "EwrXUTJE6dxm"
      },
      "execution_count": null,
      "outputs": []
    },
    {
      "cell_type": "markdown",
      "source": [
        "Aula 8 - Contador palavras"
      ],
      "metadata": {
        "id": "vdg-OqvJ85QE"
      }
    },
    {
      "cell_type": "code",
      "source": [
        "def contador_letras(lista_palavras):\n",
        "  contador = []\n",
        "  for x in lista_palavras:\n",
        "    quantidade = len(x)\n",
        "    contador.append(quantidade)\n",
        "  return contador\n",
        "\n",
        "if __name__ == '__main__':\n",
        "  lista = ['cachorro', 'gato']\n",
        "  print(contador_letras.soma())"
      ],
      "metadata": {
        "id": "44Iuy6kA895I"
      },
      "execution_count": null,
      "outputs": []
    },
    {
      "cell_type": "markdown",
      "source": [
        "Aula 8 - Lambda"
      ],
      "metadata": {
        "id": "AkBHwL1n_cOF"
      }
    },
    {
      "cell_type": "code",
      "source": [
        "contador_letras = lambda lista: [len(x) for x in lista]\n",
        "lista_animais = ['cachorro', 'gato', 'elefante']\n",
        "print(contador_letras(lista_animais))\n",
        "\n",
        "soma = lambda a, b: a + b\n",
        "print(soma(5, 10))\n",
        "\n",
        "subtracao = lambda a, b: a - b\n",
        "print(subtracao(10, 5))\n",
        "\n",
        "calculadora = {\n",
        "    'soma': lambda a, b: a + b,\n",
        "    'subtracao': lambda a, b: a - b,\n",
        "    'multiplicacao': lambda a, b: a * b,\n",
        "    'divisao': lambda a, b: a / b,\n",
        "}\n",
        "\n",
        "print(type(calculadora))\n",
        "soma = calculadora['soma']\n",
        "subtracao = calculadora['subtracao']\n",
        "multiplicacao = calculadora['multiplicacao']\n",
        "divisao = calculadora['divisao']\n",
        "\n",
        "print('A soma é: {}'.format(soma(10, 5)))\n",
        "print('A subtracao é: {}'.format(subtracao(10, 5)))\n",
        "print('A multiplicação é: {}'.format(multiplicacao(10, 5)))\n",
        "print('A divisão é: {}'.format(divisao(10, 5)))"
      ],
      "metadata": {
        "colab": {
          "base_uri": "https://localhost:8080/"
        },
        "id": "FXsLpeZg_jCr",
        "outputId": "0f1dc605-ce63-4e4a-ebe5-2d1c7a7e15b4"
      },
      "execution_count": null,
      "outputs": [
        {
          "output_type": "stream",
          "name": "stdout",
          "text": [
            "[8, 4, 8]\n",
            "15\n",
            "5\n",
            "<class 'dict'>\n",
            "A soma é: 15\n",
            "A subtracao é: 5\n",
            "A multiplicação é: 50\n",
            "A divisão é: 2.0\n"
          ]
        }
      ]
    }
  ]
}