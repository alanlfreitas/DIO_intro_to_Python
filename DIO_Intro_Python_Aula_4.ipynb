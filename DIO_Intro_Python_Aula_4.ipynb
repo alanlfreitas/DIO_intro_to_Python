{
  "nbformat": 4,
  "nbformat_minor": 0,
  "metadata": {
    "colab": {
      "provenance": [],
      "toc_visible": true,
      "authorship_tag": "ABX9TyOiYmvQPahs+hF3V9YYFc7t",
      "include_colab_link": true
    },
    "kernelspec": {
      "name": "python3",
      "display_name": "Python 3"
    },
    "language_info": {
      "name": "python"
    }
  },
  "cells": [
    {
      "cell_type": "markdown",
      "metadata": {
        "id": "view-in-github",
        "colab_type": "text"
      },
      "source": [
        "<a href=\"https://colab.research.google.com/github/alanlfreitas/Python/blob/aula_4/DIO_Intro_Python_Aula_4.ipynb\" target=\"_parent\"><img src=\"https://colab.research.google.com/assets/colab-badge.svg\" alt=\"Open In Colab\"/></a>"
      ]
    },
    {
      "cell_type": "markdown",
      "source": [
        "**Como criar laços de repetição em Python**"
      ],
      "metadata": {
        "id": "zLbMrytaXS7N"
      }
    },
    {
      "cell_type": "code",
      "execution_count": null,
      "metadata": {
        "id": "S3rgoM2vWiwk"
      },
      "outputs": [],
      "source": [
        "for x in range(1,101):\n",
        "  print(x) "
      ]
    },
    {
      "cell_type": "code",
      "source": [
        "#if\n",
        "a = int(input('Digite um número: '))\n",
        "\n",
        "div = 0\n",
        "for x in range(1,a+1):\n",
        "  resto = a % x\n",
        "  print(x, resto)\n",
        "  if resto == 0:\n",
        "    div = div + 1\n",
        "if div == 2:\n",
        "  print('Número {} é primo'.format(a))\n",
        "else:\n",
        "  print('Número {} não é primo.'.format(a))"
      ],
      "metadata": {
        "id": "g-tKrFwzXxMZ"
      },
      "execution_count": null,
      "outputs": []
    },
    {
      "cell_type": "code",
      "source": [
        "#for\n",
        "a = int(input('Informe um número: '))\n",
        "for num in range(a+1):\n",
        "  div = 0\n",
        "  for x in range(1,num+1):\n",
        "    resto = num % x\n",
        "    #print(x, resto)\n",
        "    if resto == 0:\n",
        "      div = div + 1\n",
        "  if div == 2:\n",
        "    print(num)"
      ],
      "metadata": {
        "id": "FF6OV0OIcKGt"
      },
      "execution_count": null,
      "outputs": []
    },
    {
      "cell_type": "code",
      "source": [
        "#while\n",
        "a = int(input('Informe a nota do primeiro bimestre: '))\n",
        "while a > 10:\n",
        "  a = int(input('Nota inválida. Informe a nota do primeiro bimestre: '))\n",
        "\n",
        "b = int(input('Informe a nota do segundo bimestre: '))\n",
        "while b > 10:\n",
        "  b = int(input('Nota inválida. Informe a nota do segundo bimestre: '))\n",
        "\n",
        "c = int(input('Informe a nota do terceiro bimestre: '))\n",
        "while c > 10:\n",
        "  c = int(input('Nota inválida. Informe a nota do terceiro bimestre: '))\n",
        "\n",
        "d = int(input('Informe a nota do quarto bimestre: '))\n",
        "while d > 10:\n",
        "  d = int(input('Nota inválida. Informe a nota do quarto bimestre: '))\n",
        "\n",
        "media = (a+b+c+d)/4\n",
        "\n",
        "if media >= 7:\n",
        "  print('Passou. Média: {}.'.format(media))\n",
        "else:\n",
        "  print('Reprovou. Média: {}.'.format(media))\n",
        "\n",
        "#nota = int(input('Informe a nota: '))\n",
        "#while nota > 10:\n",
        "#  nota = int(input('Nota inválida. Informe a nota: '))\n",
        "#print(nota)\n",
        "\n",
        "#a = 0\n",
        "#while a < 10:\n",
        "#  print(a)\n",
        "#  a += 1"
      ],
      "metadata": {
        "id": "Mysghe5UjdGA"
      },
      "execution_count": null,
      "outputs": []
    }
  ]
}