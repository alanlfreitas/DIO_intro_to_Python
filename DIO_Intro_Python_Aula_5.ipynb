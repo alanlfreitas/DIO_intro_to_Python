{
  "nbformat": 4,
  "nbformat_minor": 0,
  "metadata": {
    "colab": {
      "provenance": [],
      "authorship_tag": "ABX9TyPDqtmtQU4qMtSxPjO/a2LP",
      "include_colab_link": true
    },
    "kernelspec": {
      "name": "python3",
      "display_name": "Python 3"
    },
    "language_info": {
      "name": "python"
    }
  },
  "cells": [
    {
      "cell_type": "markdown",
      "metadata": {
        "id": "view-in-github",
        "colab_type": "text"
      },
      "source": [
        "<a href=\"https://colab.research.google.com/github/alanlfreitas/Python/blob/aula_5/DIO_Intro_Python_Aula_5.ipynb\" target=\"_parent\"><img src=\"https://colab.research.google.com/assets/colab-badge.svg\" alt=\"Open In Colab\"/></a>"
      ]
    },
    {
      "cell_type": "markdown",
      "source": [
        "**Como organizar dados em uma lista ou tupla e realizar operações com elas.**"
      ],
      "metadata": {
        "id": "Q_jUvPGMpUdU"
      }
    },
    {
      "cell_type": "code",
      "source": [
        "lista = [1, 3, 5, 7]\n",
        "lista_animal = ['cachorro', 'gato', 'elefante', 'tamanduá']\n",
        "print(lista_animal)\n",
        "for x in lista_animal:\n",
        "  print(x)\n",
        "\n",
        "soma = 0 #jeito longo de somar itens da lista\n",
        "print(lista)\n",
        "for x in lista:\n",
        "  print(x)\n",
        "  soma += x\n",
        "print(soma)\n",
        "\n",
        "print(lista)\n",
        "print(sum(lista)) #jeito otimizado de somar itens da lista usando SUM\n",
        "\n",
        "print(lista)\n",
        "print(max(lista)) #mostrando valor mais alto da lista(independe da posição)\n",
        "\n",
        "print(lista)\n",
        "print(min(lista)) #mostrando valor mais baixo da lista(independe da posição)\n",
        "\n",
        "if 'lobo' in lista_animal: #verificando se há 'um item' na lista\n",
        "  print('Existe um lobo na lista.')\n",
        "else:\n",
        "  print('Não existe lobo na lista. Será incluído')\n",
        "  lista_animal.append('lobo') #APPEND insere item na lista\n",
        "  print(lista_animal)\n",
        "\n",
        "lista_animal.pop() #remove o último item da lista\n",
        "print(lista_animal)\n",
        "\n",
        "lista_animal.pop() #remove o último item da lista, pode-se colocar a posição do item a ser retirado\n",
        "print(lista_animal)\n",
        "\n",
        "lista_animal.remove('gato') #remove o item pelo nome\n",
        "print(lista_animal)"
      ],
      "metadata": {
        "id": "qQfWkCiypW22"
      },
      "execution_count": null,
      "outputs": []
    },
    {
      "cell_type": "code",
      "source": [
        "lista = [10, 12, 7, 5]\n",
        "lista_animal = ['cachorro', 'gato', 'elefante', 'lobo', 'arara']\n",
        "\n",
        "lista.sort() #organiza os itens em crescente ou alfabética\n",
        "lista_animal.sort()\n",
        "print(lista)\n",
        "print(lista_animal)\n",
        "\n",
        "lista_animal.reverse() #organiza os itens em ordem inversa\n",
        "print(lista_animal)"
      ],
      "metadata": {
        "id": "hNdyVsCSv5OP"
      },
      "execution_count": null,
      "outputs": []
    },
    {
      "cell_type": "code",
      "source": [
        "lista = [10, 12, 7, 5]\n",
        "lista_animal = ['cachorro', 'gato', 'elefante', 'lobo', 'arara']\n",
        "\n",
        "lista_animal[0] = 'macaco' #insere item no local posicao entre colchetes\n",
        "print(lista_animal)\n",
        "\n",
        "tupla = (1, 10, 12, 14) #tuplas tem que ser colocadas entre parenteses\n",
        "print(len(tupla)) #LEN informa quantos itens tem numa tupla ou lista\n",
        "print(len(lista_animal))\n",
        "\n",
        "tupla_animal = tuple(lista_animal) #convertendo lista para tupla\n",
        "print(tupla_animal)\n",
        "\n",
        "lista_numerica = list(tupla) #convertendo tupla para lista\n",
        "print(lista_numerica)\n",
        "\n"
      ],
      "metadata": {
        "colab": {
          "base_uri": "https://localhost:8080/"
        },
        "id": "uT186YeKyBwb",
        "outputId": "faafa70f-cadb-41f0-d33d-95da00ba6cdb"
      },
      "execution_count": null,
      "outputs": [
        {
          "output_type": "stream",
          "name": "stdout",
          "text": [
            "['macaco', 'gato', 'elefante', 'lobo', 'arara']\n",
            "4\n",
            "5\n",
            "('macaco', 'gato', 'elefante', 'lobo', 'arara')\n",
            "[1, 10, 12, 14]\n"
          ]
        }
      ]
    }
  ]
}