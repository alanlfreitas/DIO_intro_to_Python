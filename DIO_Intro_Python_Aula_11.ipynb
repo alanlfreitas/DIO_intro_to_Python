{
  "nbformat": 4,
  "nbformat_minor": 0,
  "metadata": {
    "colab": {
      "provenance": [],
      "authorship_tag": "ABX9TyM6iS0VQ2nuj4DaWEFFdlLo",
      "include_colab_link": true
    },
    "kernelspec": {
      "name": "python3",
      "display_name": "Python 3"
    },
    "language_info": {
      "name": "python"
    }
  },
  "cells": [
    {
      "cell_type": "markdown",
      "metadata": {
        "id": "view-in-github",
        "colab_type": "text"
      },
      "source": [
        "<a href=\"https://colab.research.google.com/github/alanlfreitas/Python/blob/Aula_11/DIO_Intro_Python_Aula_11.ipynb\" target=\"_parent\"><img src=\"https://colab.research.google.com/assets/colab-badge.svg\" alt=\"Open In Colab\"/></a>"
      ]
    },
    {
      "cell_type": "markdown",
      "source": [
        "**Gerenciando e criando exceções customizadas com *TRY, EXCEPT, ELSE e FINALLY*.**"
      ],
      "metadata": {
        "id": "ss83eUmypWu3"
      }
    },
    {
      "cell_type": "code",
      "source": [
        "lista = [1, 10]\n",
        "try:\n",
        "  arquivo = open('teste.txt', 'r')\n",
        "  texto = arquivo.read()\n",
        "  divisao = 10 / 0\n",
        "  numero = lista[1]\n",
        "    \n",
        "except ZeroDivisionError:\n",
        "  print('Não é possível realziar divisão por 0.')\n",
        "except ArithmeticError:\n",
        "  print('Houve um erro ao realizar uma operação aritimética.')\n",
        "except IndexError:\n",
        "  print('Erro ao acessar um  índice inválido da lista.')\n",
        "except Exception as ex:\n",
        "  print('Erro desconhecido. Erro: {}.'.format(ex))\n",
        "else:\n",
        "  print('Executa quando não ocorre excessão.')\n",
        "finally:\n",
        "  print('Sempre executa.')\n",
        "  print('Fechando arquivo.')\n",
        "  arquivo.close()\n"
      ],
      "metadata": {
        "id": "cg5ni0WYp9wl"
      },
      "execution_count": null,
      "outputs": []
    },
    {
      "cell_type": "markdown",
      "source": [
        "**Personalizar Excessão**"
      ],
      "metadata": {
        "id": "YbkeZ2bfxltA"
      }
    },
    {
      "cell_type": "code",
      "source": [
        "class Error(Exception):\n",
        "  pass\n",
        "\n",
        "class InputError(Error):\n",
        "  def __init__(self, message):\n",
        "    self.message = message\n",
        "\n",
        "while True:\n",
        "  try:\n",
        "    x = int(input('Entre com uma nota de 0 a 10: '))\n",
        "    print(x)\n",
        "    if x > 10:\n",
        "      raise InputError('Nota não pode ser maior que 10.')\n",
        "    elif x < 0:\n",
        "      raise InputError('Nota não pode ser menor que 0.')\n",
        "    break\n",
        "  except ValueError:\n",
        "    print('Valor inválido. Digite apenas números.')\n",
        "  except InputError as ex:\n",
        "    print(ex)"
      ],
      "metadata": {
        "id": "MIra2YjlxrLZ"
      },
      "execution_count": null,
      "outputs": []
    }
  ]
}