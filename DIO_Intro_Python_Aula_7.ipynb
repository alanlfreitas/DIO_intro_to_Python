{
  "nbformat": 4,
  "nbformat_minor": 0,
  "metadata": {
    "colab": {
      "provenance": [],
      "authorship_tag": "ABX9TyNuh2/0LQKslN8CZMqXK5uI",
      "include_colab_link": true
    },
    "kernelspec": {
      "name": "python3",
      "display_name": "Python 3"
    },
    "language_info": {
      "name": "python"
    }
  },
  "cells": [
    {
      "cell_type": "markdown",
      "metadata": {
        "id": "view-in-github",
        "colab_type": "text"
      },
      "source": [
        "<a href=\"https://colab.research.google.com/github/alanlfreitas/Python/blob/aula_7/DIO_Intro_Python_Aula_7.ipynb\" target=\"_parent\"><img src=\"https://colab.research.google.com/assets/colab-badge.svg\" alt=\"Open In Colab\"/></a>"
      ]
    },
    {
      "cell_type": "markdown",
      "source": [
        "**Construindo métodos, funções e classes em Python**"
      ],
      "metadata": {
        "id": "jF1wq1ImoKky"
      }
    },
    {
      "cell_type": "markdown",
      "source": [
        "Aula 7 - Calculadora 1"
      ],
      "metadata": {
        "id": "Ywx1nS4UvGVa"
      }
    },
    {
      "cell_type": "code",
      "source": [
        "class Calculadora:                        #criação de classe\n",
        "  def __init__(self, num1, num2):         #método é tudo aquilo que não retorna valor.\n",
        "    self.valor_a = num1\n",
        "    self.valor_b = num2\n",
        "  def soma(self):                         #cria-se método usanto **def**\n",
        "    return self.valor_a + self.valor_b   \n",
        "\n",
        "  def subtracao(self):                    #\n",
        "    return self.valor_a - self.valor_b    \n",
        "\n",
        "  def multiplicacao(self):                #\n",
        "    return self.valor_a * self.valor_b\n",
        "\n",
        "  def divisao(self):                      #\n",
        "    return self.valor_a / self.valor_b\n",
        "\n",
        "calculadora = Calculadora(10, 2)\n",
        "\n",
        "print('O primeiro valor é: {}'.format(calculadora.valor_a))\n",
        "print('O segundo valor é: {}'.format(calculadora.valor_b))\n",
        "print('Valor da soma: {}'.format(calculadora.soma()))\n",
        "print('Valor da subtração: {}'.format(calculadora.subtracao()))\n",
        "print('Valor da multiplicação: {}'.format(calculadora.multiplicacao()))\n",
        "print('Valor da divisão: {}'.format(calculadora.divisao()))"
      ],
      "metadata": {
        "id": "zySQ0oOWoRna"
      },
      "execution_count": null,
      "outputs": []
    },
    {
      "cell_type": "markdown",
      "source": [
        "Aula 7 - Calculadora 2"
      ],
      "metadata": {
        "id": "GdePj_J4vLtG"
      }
    },
    {
      "cell_type": "code",
      "source": [
        "class Calculadora:                        \n",
        "  #def __init__(self):         \n",
        "  #  pass\n",
        "  def soma(self, valor_a, valor_b):                         #cria-se método usanto **def**\n",
        "    return valor_a + valor_b   \n",
        "\n",
        "  def subtracao(self, valor_a, valor_b):                    #\n",
        "    return valor_a - valor_b    \n",
        "\n",
        "  def multiplicacao(self, valor_a, valor_b):                #\n",
        "    return valor_a * valor_b\n",
        "\n",
        "  def divisao(self, valor_a, valor_b):                      #\n",
        "    return valor_a / valor_b\n",
        "\n",
        "calculadora = Calculadora()\n",
        "\n",
        "#print('O primeiro valor é: {}'.format(calculadora.valor_a))\n",
        "#print('O segundo valor é: {}'.format(calculadora.valor_b))\n",
        "print('Valor da soma: {}'.format(calculadora.soma(10, 2)))\n",
        "print('Valor da subtração: {}'.format(calculadora.subtracao(10, 2)))\n",
        "print('Valor da multiplicação: {}'.format(calculadora.multiplicacao(10, 2)))\n",
        "print('Valor da divisão: {}'.format(calculadora.divisao(10, 2)))"
      ],
      "metadata": {
        "id": "WvOalOlNvP--"
      },
      "execution_count": null,
      "outputs": []
    },
    {
      "cell_type": "markdown",
      "source": [
        "Aula 7 - Televisão"
      ],
      "metadata": {
        "id": "DXkZv8hewxRR"
      }
    },
    {
      "cell_type": "code",
      "source": [
        "class Televisao:\n",
        "  def __init__(self):\n",
        "    self.ligada = False\n",
        "    self.canal = 5\n",
        "\n",
        "  def power(self):\n",
        "    if self.ligada == True:\n",
        "      self.ligada = False\n",
        "    else:\n",
        "      self.ligada = True\n",
        "\n",
        "  def aumenta_canal(self):\n",
        "    if self.ligada:\n",
        "      self.canal += 1\n",
        "\n",
        "  def diminui_canal(self):\n",
        "    if self.ligada:\n",
        "      self.canal -= 1\n",
        "\n",
        "if __name__ == '__main__':\n",
        "  televisao = Televisao()\n",
        "  print('Televisão está ligada: {}'.format(televisao.ligada))\n",
        "  televisao.power()\n",
        "  print('Televisão está ligada: {}'.format(televisao.ligada))\n",
        "  televisao.power()\n",
        "  print('Televisão está ligada: {}'.format(televisao.ligada))\n",
        "  televisao.power()\n",
        "  print('Televisão está ligada: {}'.format(televisao.ligada))\n",
        "  print('Canal: {}'.format(televisao.canal))\n",
        "  televisao.aumenta_canal()\n",
        "  televisao.aumenta_canal()\n",
        "  print('Canal: {}'.format(televisao.canal))\n",
        "  televisao.diminui_canal()\n",
        "  print('Canal: {}'.format(televisao.canal))"
      ],
      "metadata": {
        "id": "x-fMNmXgw5Lq",
        "colab": {
          "base_uri": "https://localhost:8080/"
        },
        "outputId": "6492e7aa-5e05-418d-a02b-e76b3d9b07ae"
      },
      "execution_count": null,
      "outputs": [
        {
          "output_type": "stream",
          "name": "stdout",
          "text": [
            "Televisão está ligada: False\n",
            "Televisão está ligada: True\n",
            "Televisão está ligada: False\n",
            "Televisão está ligada: True\n",
            "Canal: 5\n",
            "Canal: 7\n",
            "Canal: 6\n"
          ]
        }
      ]
    }
  ]
}