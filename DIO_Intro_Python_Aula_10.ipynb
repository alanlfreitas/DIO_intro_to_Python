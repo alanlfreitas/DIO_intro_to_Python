{
  "nbformat": 4,
  "nbformat_minor": 0,
  "metadata": {
    "colab": {
      "provenance": [],
      "authorship_tag": "ABX9TyOfZLgPAqwe/6Bj06rHwp0+",
      "include_colab_link": true
    },
    "kernelspec": {
      "name": "python3",
      "display_name": "Python 3"
    },
    "language_info": {
      "name": "python"
    }
  },
  "cells": [
    {
      "cell_type": "markdown",
      "metadata": {
        "id": "view-in-github",
        "colab_type": "text"
      },
      "source": [
        "<a href=\"https://colab.research.google.com/github/alanlfreitas/Python/blob/Aula_10/DIO_Intro_Python_Aula_10.ipynb\" target=\"_parent\"><img src=\"https://colab.research.google.com/assets/colab-badge.svg\" alt=\"Open In Colab\"/></a>"
      ]
    },
    {
      "cell_type": "markdown",
      "source": [
        "**Aprenda a utilizar informações de data, horário e relacionar datas diferentes.**"
      ],
      "metadata": {
        "id": "dmQIJGI_uZW0"
      }
    },
    {
      "cell_type": "code",
      "source": [
        ", timedelta\n",
        ", timedelta\n",
        "from datetime import date, time, datetime\n",
        "\n",
        "def trabalhando_com_datetime():\n",
        "  data_atual = datetime.now()\n",
        "  print(data_atual)\n",
        "  print(data_atual.strftime('%A - %H:%M:%S - %d/%m/%Y'))\n",
        "  print(data_atual.strftime('%c'))\n",
        "  print(data_atual.day) #.day .year .hour etc\n",
        "  tupla = ('Segunda', 'Terça', 'Quarta', 'Quinta', 'Sexta', 'Sábado', 'Domingo')\n",
        "  print(tupla[data_atual.weekday()])\n",
        "  data_criada = datetime(2018, 6, 20, 15, 30, 20)\n",
        "  print(data_criada)\n",
        "  print(data_criada.strftime('%c'))\n",
        "  data_string = '01/01/2019'\n",
        "  data_convertida = datetime.strptime(data_string, '%d/%m/%Y')\n",
        "  print(data_convertida)\n",
        "  nova_data = data_convertida - timedelta(365)\n",
        "  print(nova_data)\n",
        "\n",
        "def trabalhando_com_date():\n",
        " data_atual = date.today()\n",
        " data_atual_str = data_atual.strftime('%A - %d/%m/%Y')\n",
        " print(data_atual_str)\n",
        " \n",
        "\n",
        "def trabalhando_com_time():\n",
        "  horario = time(hour = 15, minute = 30, second= 45)\n",
        "  horario_str = horario.strftime('%H:%M:%S')\n",
        "  print(horario_str)   \n",
        "\n",
        "if __name__ == '__main__':\n",
        "    #trabalhando_com_date()\n",
        "    #trabalhando_com_time()\n",
        "    trabalhando_com_datetime()"
      ],
      "metadata": {
        "id": "oU66NL_hujCK"
      },
      "execution_count": null,
      "outputs": []
    }
  ]
}