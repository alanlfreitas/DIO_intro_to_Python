{
  "nbformat": 4,
  "nbformat_minor": 0,
  "metadata": {
    "colab": {
      "provenance": [],
      "authorship_tag": "ABX9TyME7h1XvtMzq0ZsdDUoMQFX",
      "include_colab_link": true
    },
    "kernelspec": {
      "name": "python3",
      "display_name": "Python 3"
    },
    "language_info": {
      "name": "python"
    }
  },
  "cells": [
    {
      "cell_type": "markdown",
      "metadata": {
        "id": "view-in-github",
        "colab_type": "text"
      },
      "source": [
        "<a href=\"https://colab.research.google.com/github/alanlfreitas/Python/blob/aula_6/DIO_Intro_Python_Aula_6.ipynb\" target=\"_parent\"><img src=\"https://colab.research.google.com/assets/colab-badge.svg\" alt=\"Open In Colab\"/></a>"
      ]
    },
    {
      "cell_type": "markdown",
      "source": [
        "**Organizando conjuntos e subconjuntos de elementos em Python** "
      ],
      "metadata": {
        "id": "N4XUoeTin7YD"
      }
    },
    {
      "cell_type": "code",
      "source": [
        "conjunto = {1, 2, 3, 4} #criação de conjunto\n",
        "conjunto.add(5)         #adição de itens no conjunto\n",
        "conjunto.discard(2)     #remoção de itens no conjunto\n",
        "print(conjunto)"
      ],
      "metadata": {
        "id": "vdjJ5kgVoQha"
      },
      "execution_count": null,
      "outputs": []
    },
    {
      "cell_type": "code",
      "source": [
        "conjunto1 = {1, 2, 3, 4, 5}\n",
        "conjunto2 = {5, 6, 7, 8}\n",
        "conjunto_uniao = conjunto1.union(conjunto2) #comando para juntar os conjuntos\n",
        "print('Conjunto Uniao: {}'.format(conjunto_uniao))\n",
        "\n",
        "conjunto_interseccao = conjunto1.intersection(conjunto2)\n",
        "print('Conjunto Intersecção: {}'.format(conjunto_interseccao)) #comando para destacar intersecção\n",
        "\n",
        "conjunto_diferenca1 = conjunto1.difference(conjunto2)\n",
        "conjunto_diferenca2 = conjunto2.difference(conjunto1)\n",
        "print('Conjunto Diferença 1 e 2: {}'.format(conjunto_diferenca1)) #comando para diferença de 1 para 2\n",
        "print('Conjunto Diferença 2 e 1: {}'.format(conjunto_diferenca2)) #comando para diferença de 2 para 1\n",
        "\n",
        "conj_diff_simetrica = conjunto1.symmetric_difference(conjunto2)   #comando que exclui repetidos e junta o resto\n",
        "print('Conjunto Diferença Simétrica: {}'.format(conj_diff_simetrica))\n",
        "\n",
        "conjunto_a = {1, 2, 3}\n",
        "conjunto_b = {1, 2, 3, 4, 5}\n",
        "conjunto_subset1 = conjunto_a.issubset(conjunto_b) #indica se o conjunto_a é um subset do conjunto_b\n",
        "print('A é subconjunto de B: {}'.format(conjunto_subset1))\n",
        "conjunto_subset2 = conjunto_b.issubset(conjunto_a) #indica se o conjunto_b é um subset do conjunto_a\n",
        "print('B é subconjunto de A: {}'.format(conjunto_subset2))\n",
        "\n",
        "conjunto_superset1 = conjunto_a.issuperset(conjunto_b) #indica se o conjunto_a é um superset do conjunto_b\n",
        "print('A é superconjunto de B: {}'.format(conjunto_superset1))\n",
        "conjunto_superset2 = conjunto_b.issuperset(conjunto_a) #indica se o conjunto_b é um superset do conjunto_a\n",
        "print('B é superconjunto de A: {}'.format(conjunto_superset2))\n",
        "\n",
        "lista = ['cachorro', 'cachorro', 'gato', 'gato', 'elefante']\n",
        "print(lista)\n",
        "conjunto_animais = set(lista)   #convertendo lista para conjunto\n",
        "print(conjunto_animais)\n",
        "lista_animais = list(conjunto_animais) #convertendo conjunto para lista\n",
        "print(lista_animais)"
      ],
      "metadata": {
        "colab": {
          "base_uri": "https://localhost:8080/"
        },
        "id": "JYS2jm0Bqg49",
        "outputId": "45460371-4859-48fb-d738-b320fbc4e722"
      },
      "execution_count": null,
      "outputs": [
        {
          "output_type": "stream",
          "name": "stdout",
          "text": [
            "Conjunto Uniao: {1, 2, 3, 4, 5, 6, 7, 8}\n",
            "Conjunto Intersecção: {5}\n",
            "Conjunto Diferença 1 e 2: {1, 2, 3, 4}\n",
            "Conjunto Diferença 2 e 1: {8, 6, 7}\n",
            "Conjunto Diferença Simétrica: {1, 2, 3, 4, 6, 7, 8}\n",
            "A é subconjunto de B: True\n",
            "B é subconjunto de A: False\n",
            "A é superconjunto de B: False\n",
            "B é superconjunto de A: True\n",
            "['cachorro', 'cachorro', 'gato', 'gato', 'elefante']\n",
            "{'cachorro', 'gato', 'elefante'}\n",
            "['cachorro', 'gato', 'elefante']\n"
          ]
        }
      ]
    }
  ]
}